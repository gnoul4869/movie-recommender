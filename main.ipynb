{
 "cells": [
  {
   "cell_type": "code",
   "execution_count": 1,
   "metadata": {},
   "outputs": [],
   "source": [
    "import pandas as pd"
   ]
  },
  {
   "cell_type": "code",
   "execution_count": 2,
   "metadata": {},
   "outputs": [
    {
     "data": {
      "text/html": [
       "<div>\n",
       "<style scoped>\n",
       "    .dataframe tbody tr th:only-of-type {\n",
       "        vertical-align: middle;\n",
       "    }\n",
       "\n",
       "    .dataframe tbody tr th {\n",
       "        vertical-align: top;\n",
       "    }\n",
       "\n",
       "    .dataframe thead th {\n",
       "        text-align: right;\n",
       "    }\n",
       "</style>\n",
       "<table border=\"1\" class=\"dataframe\">\n",
       "  <thead>\n",
       "    <tr style=\"text-align: right;\">\n",
       "      <th></th>\n",
       "      <th>userId</th>\n",
       "      <th>movieId</th>\n",
       "      <th>rating</th>\n",
       "      <th>timestamp</th>\n",
       "    </tr>\n",
       "  </thead>\n",
       "  <tbody>\n",
       "    <tr>\n",
       "      <th>0</th>\n",
       "      <td>1</td>\n",
       "      <td>296</td>\n",
       "      <td>5.0</td>\n",
       "      <td>1147880044</td>\n",
       "    </tr>\n",
       "    <tr>\n",
       "      <th>1</th>\n",
       "      <td>1</td>\n",
       "      <td>306</td>\n",
       "      <td>3.5</td>\n",
       "      <td>1147868817</td>\n",
       "    </tr>\n",
       "    <tr>\n",
       "      <th>2</th>\n",
       "      <td>1</td>\n",
       "      <td>307</td>\n",
       "      <td>5.0</td>\n",
       "      <td>1147868828</td>\n",
       "    </tr>\n",
       "    <tr>\n",
       "      <th>3</th>\n",
       "      <td>1</td>\n",
       "      <td>665</td>\n",
       "      <td>5.0</td>\n",
       "      <td>1147878820</td>\n",
       "    </tr>\n",
       "    <tr>\n",
       "      <th>4</th>\n",
       "      <td>1</td>\n",
       "      <td>899</td>\n",
       "      <td>3.5</td>\n",
       "      <td>1147868510</td>\n",
       "    </tr>\n",
       "    <tr>\n",
       "      <th>...</th>\n",
       "      <td>...</td>\n",
       "      <td>...</td>\n",
       "      <td>...</td>\n",
       "      <td>...</td>\n",
       "    </tr>\n",
       "    <tr>\n",
       "      <th>499994</th>\n",
       "      <td>3445</td>\n",
       "      <td>8019</td>\n",
       "      <td>3.5</td>\n",
       "      <td>1454265447</td>\n",
       "    </tr>\n",
       "    <tr>\n",
       "      <th>499995</th>\n",
       "      <td>3445</td>\n",
       "      <td>8042</td>\n",
       "      <td>4.0</td>\n",
       "      <td>1452883966</td>\n",
       "    </tr>\n",
       "    <tr>\n",
       "      <th>499996</th>\n",
       "      <td>3445</td>\n",
       "      <td>8154</td>\n",
       "      <td>4.0</td>\n",
       "      <td>1487631358</td>\n",
       "    </tr>\n",
       "    <tr>\n",
       "      <th>499997</th>\n",
       "      <td>3445</td>\n",
       "      <td>8188</td>\n",
       "      <td>4.0</td>\n",
       "      <td>1464211151</td>\n",
       "    </tr>\n",
       "    <tr>\n",
       "      <th>499998</th>\n",
       "      <td>3445</td>\n",
       "      <td>8260</td>\n",
       "      <td>3.5</td>\n",
       "      <td>1487094766</td>\n",
       "    </tr>\n",
       "  </tbody>\n",
       "</table>\n",
       "<p>499999 rows × 4 columns</p>\n",
       "</div>"
      ],
      "text/plain": [
       "        userId  movieId  rating   timestamp\n",
       "0            1      296     5.0  1147880044\n",
       "1            1      306     3.5  1147868817\n",
       "2            1      307     5.0  1147868828\n",
       "3            1      665     5.0  1147878820\n",
       "4            1      899     3.5  1147868510\n",
       "...        ...      ...     ...         ...\n",
       "499994    3445     8019     3.5  1454265447\n",
       "499995    3445     8042     4.0  1452883966\n",
       "499996    3445     8154     4.0  1487631358\n",
       "499997    3445     8188     4.0  1464211151\n",
       "499998    3445     8260     3.5  1487094766\n",
       "\n",
       "[499999 rows x 4 columns]"
      ]
     },
     "execution_count": 2,
     "metadata": {},
     "output_type": "execute_result"
    }
   ],
   "source": [
    "df = pd.read_csv('data/movielens_500k.csv')\n",
    "df"
   ]
  },
  {
   "cell_type": "code",
   "execution_count": 3,
   "metadata": {},
   "outputs": [
    {
     "data": {
      "text/plain": [
       "(3445, 17466)"
      ]
     },
     "execution_count": 3,
     "metadata": {},
     "output_type": "execute_result"
    }
   ],
   "source": [
    "df.userId.nunique(), df.movieId.nunique()"
   ]
  },
  {
   "cell_type": "code",
   "execution_count": 4,
   "metadata": {},
   "outputs": [
    {
     "data": {
      "text/plain": [
       "4.0    134700\n",
       "3.0     97143\n",
       "5.0     74244\n",
       "3.5     62535\n",
       "4.5     43600\n",
       "2.0     32295\n",
       "2.5     24986\n",
       "1.0     14443\n",
       "1.5      8484\n",
       "0.5      7569\n",
       "Name: rating, dtype: int64"
      ]
     },
     "execution_count": 4,
     "metadata": {},
     "output_type": "execute_result"
    }
   ],
   "source": [
    "df.rating.value_counts()"
   ]
  },
  {
   "cell_type": "code",
   "execution_count": 5,
   "metadata": {},
   "outputs": [
    {
     "data": {
      "text/html": [
       "<div>\n",
       "<style scoped>\n",
       "    .dataframe tbody tr th:only-of-type {\n",
       "        vertical-align: middle;\n",
       "    }\n",
       "\n",
       "    .dataframe tbody tr th {\n",
       "        vertical-align: top;\n",
       "    }\n",
       "\n",
       "    .dataframe thead th {\n",
       "        text-align: right;\n",
       "    }\n",
       "</style>\n",
       "<table border=\"1\" class=\"dataframe\">\n",
       "  <thead>\n",
       "    <tr style=\"text-align: right;\">\n",
       "      <th></th>\n",
       "      <th>userId</th>\n",
       "      <th>movieId</th>\n",
       "      <th>rating</th>\n",
       "    </tr>\n",
       "  </thead>\n",
       "  <tbody>\n",
       "    <tr>\n",
       "      <th>0</th>\n",
       "      <td>1</td>\n",
       "      <td>296</td>\n",
       "      <td>5.0</td>\n",
       "    </tr>\n",
       "    <tr>\n",
       "      <th>1</th>\n",
       "      <td>1</td>\n",
       "      <td>306</td>\n",
       "      <td>3.5</td>\n",
       "    </tr>\n",
       "    <tr>\n",
       "      <th>2</th>\n",
       "      <td>1</td>\n",
       "      <td>307</td>\n",
       "      <td>5.0</td>\n",
       "    </tr>\n",
       "    <tr>\n",
       "      <th>3</th>\n",
       "      <td>1</td>\n",
       "      <td>665</td>\n",
       "      <td>5.0</td>\n",
       "    </tr>\n",
       "    <tr>\n",
       "      <th>4</th>\n",
       "      <td>1</td>\n",
       "      <td>899</td>\n",
       "      <td>3.5</td>\n",
       "    </tr>\n",
       "    <tr>\n",
       "      <th>...</th>\n",
       "      <td>...</td>\n",
       "      <td>...</td>\n",
       "      <td>...</td>\n",
       "    </tr>\n",
       "    <tr>\n",
       "      <th>499994</th>\n",
       "      <td>3445</td>\n",
       "      <td>8019</td>\n",
       "      <td>3.5</td>\n",
       "    </tr>\n",
       "    <tr>\n",
       "      <th>499995</th>\n",
       "      <td>3445</td>\n",
       "      <td>8042</td>\n",
       "      <td>4.0</td>\n",
       "    </tr>\n",
       "    <tr>\n",
       "      <th>499996</th>\n",
       "      <td>3445</td>\n",
       "      <td>8154</td>\n",
       "      <td>4.0</td>\n",
       "    </tr>\n",
       "    <tr>\n",
       "      <th>499997</th>\n",
       "      <td>3445</td>\n",
       "      <td>8188</td>\n",
       "      <td>4.0</td>\n",
       "    </tr>\n",
       "    <tr>\n",
       "      <th>499998</th>\n",
       "      <td>3445</td>\n",
       "      <td>8260</td>\n",
       "      <td>3.5</td>\n",
       "    </tr>\n",
       "  </tbody>\n",
       "</table>\n",
       "<p>499999 rows × 3 columns</p>\n",
       "</div>"
      ],
      "text/plain": [
       "        userId  movieId  rating\n",
       "0            1      296     5.0\n",
       "1            1      306     3.5\n",
       "2            1      307     5.0\n",
       "3            1      665     5.0\n",
       "4            1      899     3.5\n",
       "...        ...      ...     ...\n",
       "499994    3445     8019     3.5\n",
       "499995    3445     8042     4.0\n",
       "499996    3445     8154     4.0\n",
       "499997    3445     8188     4.0\n",
       "499998    3445     8260     3.5\n",
       "\n",
       "[499999 rows x 3 columns]"
      ]
     },
     "execution_count": 5,
     "metadata": {},
     "output_type": "execute_result"
    }
   ],
   "source": [
    "data = df.drop('timestamp', axis=1)\n",
    "data"
   ]
  },
  {
   "cell_type": "code",
   "execution_count": 6,
   "metadata": {},
   "outputs": [
    {
     "data": {
      "text/plain": [
       "(        userId  movieId\n",
       " 0            1      296\n",
       " 1            1      306\n",
       " 2            1      307\n",
       " 3            1      665\n",
       " 4            1      899\n",
       " ...        ...      ...\n",
       " 499994    3445     8019\n",
       " 499995    3445     8042\n",
       " 499996    3445     8154\n",
       " 499997    3445     8188\n",
       " 499998    3445     8260\n",
       " \n",
       " [499999 rows x 2 columns],\n",
       " 0         5.0\n",
       " 1         3.5\n",
       " 2         5.0\n",
       " 3         5.0\n",
       " 4         3.5\n",
       "          ... \n",
       " 499994    3.5\n",
       " 499995    4.0\n",
       " 499996    4.0\n",
       " 499997    4.0\n",
       " 499998    3.5\n",
       " Name: rating, Length: 499999, dtype: float64)"
      ]
     },
     "execution_count": 6,
     "metadata": {},
     "output_type": "execute_result"
    }
   ],
   "source": [
    "x = data.drop('rating', axis=1)\n",
    "y = data['rating']\n",
    "x, y"
   ]
  },
  {
   "cell_type": "code",
   "execution_count": 7,
   "metadata": {},
   "outputs": [
    {
     "data": {
      "text/plain": [
       "(399999, 100000)"
      ]
     },
     "execution_count": 7,
     "metadata": {},
     "output_type": "execute_result"
    }
   ],
   "source": [
    "from sklearn.model_selection import train_test_split\n",
    "\n",
    "x_train, x_test, y_train, y_test = train_test_split(x, y, test_size=0.2, random_state=42)\n",
    "\n",
    "len(x_train), len(x_test)"
   ]
  },
  {
   "cell_type": "code",
   "execution_count": 8,
   "metadata": {},
   "outputs": [
    {
     "data": {
      "text/plain": [
       "(array([[5.48199768e-01, 8.53363199e-03],\n",
       "        [9.99419280e-01, 3.30016560e-01],\n",
       "        [1.86411150e-01, 1.67035197e-03],\n",
       "        ...,\n",
       "        [2.72357724e-01, 1.48369373e-04],\n",
       "        [3.00522648e-01, 6.55218294e-03],\n",
       "        [2.53193961e-01, 5.59974729e-03]]),\n",
       " array([[0.23054588, 0.0015172 ],\n",
       "        [0.40882695, 0.01474122],\n",
       "        [0.28803717, 0.01711991],\n",
       "        ...,\n",
       "        [0.31184669, 0.02334185],\n",
       "        [0.11788618, 0.00698772],\n",
       "        [0.49390244, 0.00543223]]))"
      ]
     },
     "execution_count": 8,
     "metadata": {},
     "output_type": "execute_result"
    }
   ],
   "source": [
    "from sklearn.compose import make_column_transformer\n",
    "from sklearn.preprocessing import MinMaxScaler, OneHotEncoder\n",
    "\n",
    "ct = make_column_transformer(\n",
    "    (MinMaxScaler(), ['userId', 'movieId'])\n",
    ")\n",
    "\n",
    "ct.fit(x_train)\n",
    "x_train_normalized = ct.transform(x_train)\n",
    "x_test_normalized = ct.transform(x_test)\n",
    "\n",
    "x_train_normalized, x_test_normalized"
   ]
  },
  {
   "cell_type": "code",
   "execution_count": null,
   "metadata": {},
   "outputs": [],
   "source": []
  },
  {
   "cell_type": "code",
   "execution_count": 9,
   "metadata": {},
   "outputs": [
    {
     "name": "stdout",
     "output_type": "stream",
     "text": [
      "Epoch 1/100\n",
      "12500/12500 [==============================] - 11s 881us/step - loss: 0.8458 - mae: 0.8458\n",
      "Epoch 2/100\n",
      "12500/12500 [==============================] - 11s 844us/step - loss: 0.8347 - mae: 0.8347\n",
      "Epoch 3/100\n",
      "12500/12500 [==============================] - 12s 955us/step - loss: 0.8348 - mae: 0.8348\n",
      "Epoch 4/100\n",
      "12500/12500 [==============================] - 13s 1ms/step - loss: 0.8349 - mae: 0.8349\n",
      "Epoch 5/100\n",
      "12500/12500 [==============================] - 11s 915us/step - loss: 0.8349 - mae: 0.8349\n"
     ]
    }
   ],
   "source": [
    "import tensorflow as tf\n",
    "from gc import callbacks\n",
    "\n",
    "\n",
    "early_stop = tf.keras.callbacks.EarlyStopping(monitor='loss', patience=3)\n",
    "\n",
    "model = tf.keras.Sequential([\n",
    "    tf.keras.layers.Dense(10),\n",
    "    tf.keras.layers.Dense(1)\n",
    "])\n",
    "\n",
    "\n",
    "model.compile(\n",
    "    loss=tf.keras.losses.MAE,\n",
    "    optimizer=tf.optimizers.SGD(),\n",
    "    metrics=['mae']\n",
    ")\n",
    "\n",
    "history = model.fit(x_train_normalized, y_train, epochs=100, callbacks=[early_stop])"
   ]
  },
  {
   "cell_type": "code",
   "execution_count": 10,
   "metadata": {},
   "outputs": [
    {
     "name": "stdout",
     "output_type": "stream",
     "text": [
      "3125/3125 [==============================] - 3s 835us/step - loss: 0.8338 - mae: 0.8338\n"
     ]
    },
    {
     "data": {
      "text/plain": [
       "[0.8337690830230713, 0.8337690830230713]"
      ]
     },
     "execution_count": 10,
     "metadata": {},
     "output_type": "execute_result"
    }
   ],
   "source": [
    "model.evaluate(x_test_normalized, y_test)"
   ]
  },
  {
   "cell_type": "code",
   "execution_count": 11,
   "metadata": {},
   "outputs": [
    {
     "data": {
      "text/plain": [
       "Text(0, 0.5, 'loss')"
      ]
     },
     "execution_count": 11,
     "metadata": {},
     "output_type": "execute_result"
    },
    {
     "data": {
      "image/png": "[encoded data removed]",
      "text/plain": [
       "<Figure size 640x480 with 1 Axes>"
      ]
     },
     "metadata": {},
     "output_type": "display_data"
    }
   ],
   "source": [
    "import matplotlib.pyplot as plt\n",
    "\n",
    "pd.DataFrame(history.history).plot()\n",
    "plt.xlabel('epochs')\n",
    "plt.ylabel('loss')"
   ]
  },
  {
   "cell_type": "code",
   "execution_count": 12,
   "metadata": {},
   "outputs": [
    {
     "name": "stdout",
     "output_type": "stream",
     "text": [
      "3125/3125 [==============================] - 2s 700us/step\n"
     ]
    }
   ],
   "source": [
    "y_pred = model.predict(x_test_normalized)"
   ]
  },
  {
   "cell_type": "code",
   "execution_count": 72,
   "metadata": {},
   "outputs": [
    {
     "data": {
      "text/plain": [
       "<matplotlib.legend.Legend at 0x2c2b21d7010>"
      ]
     },
     "execution_count": 72,
     "metadata": {},
     "output_type": "execute_result"
    },
    {
     "data": {
      "image/png": "[encoded data removed]",
      "text/plain": [
       "<Figure size 640x480 with 1 Axes>"
      ]
     },
     "metadata": {},
     "output_type": "display_data"
    }
   ],
   "source": [
    "plt.scatter(x_test_normalized[:,1], y_test, c='g', label='Testing data')\n",
    "plt.scatter(x_test_normalized[:,1], y_pred, c='r', label='Predictions')\n",
    "plt.legend()"
   ]
  }
 ],
 "metadata": {
  "kernelspec": {
   "display_name": "Python 3.10.6 64-bit",
   "language": "python",
   "name": "python3"
  },
  "language_info": {
   "codemirror_mode": {
    "name": "ipython",
    "version": 3
   },
   "file_extension": ".py",
   "mimetype": "text/x-python",
   "name": "python",
   "nbconvert_exporter": "python",
   "pygments_lexer": "ipython3",
   "version": "3.10.6"
  },
  "orig_nbformat": 4,
  "vscode": {
   "interpreter": {
    "hash": "369f2c481f4da34e4445cda3fffd2e751bd1c4d706f27375911949ba6bb62e1c"
   }
  }
 },
 "nbformat": 4,
 "nbformat_minor": 2
}
